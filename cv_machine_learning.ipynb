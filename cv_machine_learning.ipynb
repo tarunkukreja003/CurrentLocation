{
  "nbformat": 4,
  "nbformat_minor": 0,
  "metadata": {
    "colab": {
      "name": "cv_machine_learning.ipynb",
      "version": "0.3.2",
      "provenance": [],
      "collapsed_sections": []
    },
    "kernelspec": {
      "name": "python3",
      "display_name": "Python 3"
    },
    "accelerator": "GPU"
  },
  "cells": [
    {
      "metadata": {
        "id": "UZQcEnrxQT5K",
        "colab_type": "text"
      },
      "cell_type": "markdown",
      "source": [
        "# This notebook covers machine learning techniques for solving the computer vision problem as given in the problem statement. It is done on Google Colab jupyter notebook, since Google Colab offers great GPU and helps solve computationally expensive tasks easily"
      ]
    },
    {
      "metadata": {
        "id": "D3R7v-Lj375H",
        "colab_type": "text"
      },
      "cell_type": "markdown",
      "source": [
        "Setting up Google Colab"
      ]
    },
    {
      "metadata": {
        "id": "st5YFej9QUvZ",
        "colab_type": "code",
        "colab": {
          "base_uri": "https://localhost:8080/",
          "height": 343
        },
        "outputId": "cceb8c21-fafd-4881-cf94-ee423612a082"
      },
      "cell_type": "code",
      "source": [
        "!pip install PyDrive"
      ],
      "execution_count": 1,
      "outputs": [
        {
          "output_type": "stream",
          "text": [
            "Collecting PyDrive\n",
            "\u001b[?25l  Downloading https://files.pythonhosted.org/packages/52/e0/0e64788e5dd58ce2d6934549676243dc69d982f198524be9b99e9c2a4fd5/PyDrive-1.3.1.tar.gz (987kB)\n",
            "\r\u001b[K    1% |▎                               | 10kB 20.5MB/s eta 0:00:01\r\u001b[K    2% |▋                               | 20kB 4.9MB/s eta 0:00:01\r\u001b[K    3% |█                               | 30kB 6.9MB/s eta 0:00:01\r\u001b[K    4% |█▎                              | 40kB 4.3MB/s eta 0:00:01\r\u001b[K    5% |█▋                              | 51kB 5.3MB/s eta 0:00:01\r\u001b[K    6% |██                              | 61kB 6.3MB/s eta 0:00:01\r\u001b[K    7% |██▎                             | 71kB 7.0MB/s eta 0:00:01\r\u001b[K    8% |██▋                             | 81kB 7.9MB/s eta 0:00:01\r\u001b[K    9% |███                             | 92kB 8.7MB/s eta 0:00:01\r\u001b[K    10% |███▎                            | 102kB 7.0MB/s eta 0:00:01\r\u001b[K    11% |███▋                            | 112kB 7.1MB/s eta 0:00:01\r\u001b[K    12% |████                            | 122kB 9.4MB/s eta 0:00:01\r\u001b[K    13% |████▎                           | 133kB 9.4MB/s eta 0:00:01\r\u001b[K    14% |████▋                           | 143kB 16.5MB/s eta 0:00:01\r\u001b[K    15% |█████                           | 153kB 16.3MB/s eta 0:00:01\r\u001b[K    16% |█████▎                          | 163kB 16.3MB/s eta 0:00:01\r\u001b[K    17% |█████▋                          | 174kB 16.6MB/s eta 0:00:01\r\u001b[K    18% |██████                          | 184kB 16.7MB/s eta 0:00:01\r\u001b[K    19% |██████▎                         | 194kB 16.8MB/s eta 0:00:01\r\u001b[K    20% |██████▋                         | 204kB 18.8MB/s eta 0:00:01\r\u001b[K    21% |███████                         | 215kB 19.2MB/s eta 0:00:01\r\u001b[K    22% |███████▎                        | 225kB 19.3MB/s eta 0:00:01\r\u001b[K    23% |███████▋                        | 235kB 19.6MB/s eta 0:00:01\r\u001b[K    24% |████████                        | 245kB 19.7MB/s eta 0:00:01\r\u001b[K    25% |████████▎                       | 256kB 20.1MB/s eta 0:00:01\r\u001b[K    26% |████████▋                       | 266kB 19.3MB/s eta 0:00:01\r\u001b[K    27% |█████████                       | 276kB 19.5MB/s eta 0:00:01\r\u001b[K    29% |█████████▎                      | 286kB 19.4MB/s eta 0:00:01\r\u001b[K    30% |█████████▋                      | 296kB 19.2MB/s eta 0:00:01\r\u001b[K    31% |██████████                      | 307kB 50.3MB/s eta 0:00:01\r\u001b[K    32% |██████████▎                     | 317kB 52.0MB/s eta 0:00:01\r\u001b[K    33% |██████████▋                     | 327kB 51.9MB/s eta 0:00:01\r\u001b[K    34% |███████████                     | 337kB 53.0MB/s eta 0:00:01\r\u001b[K    35% |███████████▎                    | 348kB 47.5MB/s eta 0:00:01\r\u001b[K    36% |███████████▋                    | 358kB 46.9MB/s eta 0:00:01\r\u001b[K    37% |████████████                    | 368kB 52.5MB/s eta 0:00:01\r\u001b[K    38% |████████████▎                   | 378kB 53.3MB/s eta 0:00:01\r\u001b[K    39% |████████████▋                   | 389kB 54.7MB/s eta 0:00:01\r\u001b[K    40% |█████████████                   | 399kB 34.9MB/s eta 0:00:01\r\u001b[K    41% |█████████████▎                  | 409kB 34.6MB/s eta 0:00:01\r\u001b[K    42% |█████████████▋                  | 419kB 34.9MB/s eta 0:00:01\r\u001b[K    43% |██████████████                  | 430kB 34.9MB/s eta 0:00:01\r\u001b[K    44% |██████████████▎                 | 440kB 34.7MB/s eta 0:00:01\r\u001b[K    45% |██████████████▋                 | 450kB 36.2MB/s eta 0:00:01\r\u001b[K    46% |███████████████                 | 460kB 32.1MB/s eta 0:00:01\r\u001b[K    47% |███████████████▎                | 471kB 32.3MB/s eta 0:00:01\r\u001b[K    48% |███████████████▋                | 481kB 31.1MB/s eta 0:00:01\r\u001b[K    49% |████████████████                | 491kB 30.3MB/s eta 0:00:01\r\u001b[K    50% |████████████████▎               | 501kB 44.9MB/s eta 0:00:01\r\u001b[K    51% |████████████████▋               | 512kB 42.8MB/s eta 0:00:01\r\u001b[K    52% |█████████████████               | 522kB 42.7MB/s eta 0:00:01\r\u001b[K    53% |█████████████████▎              | 532kB 42.4MB/s eta 0:00:01\r\u001b[K    54% |█████████████████▋              | 542kB 41.5MB/s eta 0:00:01\r\u001b[K    55% |██████████████████              | 552kB 44.3MB/s eta 0:00:01\r\u001b[K    57% |██████████████████▎             | 563kB 51.7MB/s eta 0:00:01\r\u001b[K    58% |██████████████████▋             | 573kB 50.4MB/s eta 0:00:01\r\u001b[K    59% |███████████████████             | 583kB 54.6MB/s eta 0:00:01\r\u001b[K    60% |███████████████████▎            | 593kB 55.5MB/s eta 0:00:01\r\u001b[K    61% |███████████████████▋            | 604kB 55.6MB/s eta 0:00:01\r\u001b[K    62% |████████████████████            | 614kB 59.5MB/s eta 0:00:01\r\u001b[K    63% |████████████████████▎           | 624kB 59.2MB/s eta 0:00:01\r\u001b[K    64% |████████████████████▋           | 634kB 60.5MB/s eta 0:00:01\r\u001b[K    65% |█████████████████████           | 645kB 62.6MB/s eta 0:00:01\r\u001b[K    66% |█████████████████████▎          | 655kB 61.2MB/s eta 0:00:01\r\u001b[K    67% |█████████████████████▋          | 665kB 49.5MB/s eta 0:00:01\r\u001b[K    68% |██████████████████████          | 675kB 49.5MB/s eta 0:00:01\r\u001b[K    69% |██████████████████████▎         | 686kB 46.3MB/s eta 0:00:01\r\u001b[K    70% |██████████████████████▋         | 696kB 45.3MB/s eta 0:00:01\r\u001b[K    71% |███████████████████████         | 706kB 44.7MB/s eta 0:00:01\r\u001b[K    72% |███████████████████████▎        | 716kB 44.8MB/s eta 0:00:01\r\u001b[K    73% |███████████████████████▋        | 727kB 43.8MB/s eta 0:00:01\r\u001b[K    74% |████████████████████████        | 737kB 41.8MB/s eta 0:00:01\r\u001b[K    75% |████████████████████████▎       | 747kB 41.4MB/s eta 0:00:01\r\u001b[K    76% |████████████████████████▋       | 757kB 41.4MB/s eta 0:00:01\r\u001b[K    77% |████████████████████████▉       | 768kB 50.9MB/s eta 0:00:01\r\u001b[K    78% |█████████████████████████▏      | 778kB 52.5MB/s eta 0:00:01\r\u001b[K    79% |█████████████████████████▌      | 788kB 55.6MB/s eta 0:00:01\r\u001b[K    80% |█████████████████████████▉      | 798kB 57.9MB/s eta 0:00:01\r\u001b[K    81% |██████████████████████████▏     | 808kB 59.1MB/s eta 0:00:01\r\u001b[K    82% |██████████████████████████▌     | 819kB 59.2MB/s eta 0:00:01\r\u001b[K    83% |██████████████████████████▉     | 829kB 60.3MB/s eta 0:00:01\r\u001b[K    85% |███████████████████████████▏    | 839kB 63.0MB/s eta 0:00:01\r\u001b[K    86% |███████████████████████████▌    | 849kB 64.4MB/s eta 0:00:01\r\u001b[K    87% |███████████████████████████▉    | 860kB 56.4MB/s eta 0:00:01\r\u001b[K    88% |████████████████████████████▏   | 870kB 56.0MB/s eta 0:00:01\r\u001b[K    89% |████████████████████████████▌   | 880kB 56.8MB/s eta 0:00:01\r\u001b[K    90% |████████████████████████████▉   | 890kB 57.8MB/s eta 0:00:01\r\u001b[K    91% |█████████████████████████████▏  | 901kB 57.8MB/s eta 0:00:01\r\u001b[K    92% |█████████████████████████████▌  | 911kB 54.9MB/s eta 0:00:01\r\u001b[K    93% |█████████████████████████████▉  | 921kB 55.0MB/s eta 0:00:01\r\u001b[K    94% |██████████████████████████████▏ | 931kB 56.4MB/s eta 0:00:01\r\u001b[K    95% |██████████████████████████████▌ | 942kB 57.3MB/s eta 0:00:01\r\u001b[K    96% |██████████████████████████████▉ | 952kB 56.3MB/s eta 0:00:01\r\u001b[K    97% |███████████████████████████████▏| 962kB 65.6MB/s eta 0:00:01\r\u001b[K    98% |███████████████████████████████▌| 972kB 63.4MB/s eta 0:00:01\r\u001b[K    99% |███████████████████████████████▉| 983kB 62.1MB/s eta 0:00:01\r\u001b[K    100% |████████████████████████████████| 993kB 21.6MB/s \n",
            "\u001b[?25hRequirement already satisfied: google-api-python-client>=1.2 in /usr/local/lib/python3.6/dist-packages (from PyDrive) (1.6.7)\n",
            "Requirement already satisfied: oauth2client>=4.0.0 in /usr/local/lib/python3.6/dist-packages (from PyDrive) (4.1.3)\n",
            "Requirement already satisfied: PyYAML>=3.0 in /usr/local/lib/python3.6/dist-packages (from PyDrive) (3.13)\n",
            "Requirement already satisfied: uritemplate<4dev,>=3.0.0 in /usr/local/lib/python3.6/dist-packages (from google-api-python-client>=1.2->PyDrive) (3.0.0)\n",
            "Requirement already satisfied: httplib2<1dev,>=0.9.2 in /usr/local/lib/python3.6/dist-packages (from google-api-python-client>=1.2->PyDrive) (0.11.3)\n",
            "Requirement already satisfied: six<2dev,>=1.6.1 in /usr/local/lib/python3.6/dist-packages (from google-api-python-client>=1.2->PyDrive) (1.11.0)\n",
            "Requirement already satisfied: pyasn1>=0.1.7 in /usr/local/lib/python3.6/dist-packages (from oauth2client>=4.0.0->PyDrive) (0.4.5)\n",
            "Requirement already satisfied: rsa>=3.1.4 in /usr/local/lib/python3.6/dist-packages (from oauth2client>=4.0.0->PyDrive) (4.0)\n",
            "Requirement already satisfied: pyasn1-modules>=0.0.5 in /usr/local/lib/python3.6/dist-packages (from oauth2client>=4.0.0->PyDrive) (0.2.4)\n",
            "Building wheels for collected packages: PyDrive\n",
            "  Building wheel for PyDrive (setup.py) ... \u001b[?25ldone\n",
            "\u001b[?25h  Stored in directory: /root/.cache/pip/wheels/fa/d2/9a/d3b6b506c2da98289e5d417215ce34b696db856643bad779f4\n",
            "Successfully built PyDrive\n",
            "Installing collected packages: PyDrive\n",
            "Successfully installed PyDrive-1.3.1\n"
          ],
          "name": "stdout"
        }
      ]
    },
    {
      "metadata": {
        "id": "G1oXO0PscRBm",
        "colab_type": "code",
        "colab": {}
      },
      "cell_type": "code",
      "source": [
        "import os\n",
        "from pydrive.auth import GoogleAuth\n",
        "from pydrive.drive import GoogleDrive\n",
        "from google.colab import auth\n",
        "from oauth2client.client import GoogleCredentials"
      ],
      "execution_count": 0,
      "outputs": []
    },
    {
      "metadata": {
        "id": "EfrLBZj_4E9O",
        "colab_type": "code",
        "colab": {}
      },
      "cell_type": "code",
      "source": [
        "auth.authenticate_user()\n",
        "gauth = GoogleAuth()\n",
        "gauth.credentials = GoogleCredentials.get_application_default()\n",
        "drive = GoogleDrive(gauth)"
      ],
      "execution_count": 0,
      "outputs": []
    },
    {
      "metadata": {
        "id": "tGYpypW54IGD",
        "colab_type": "text"
      },
      "cell_type": "markdown",
      "source": [
        "Importing the necessary libraries"
      ]
    },
    {
      "metadata": {
        "id": "bT6xTe-vePX1",
        "colab_type": "code",
        "colab": {}
      },
      "cell_type": "code",
      "source": [
        "import pickle\n",
        "import numpy as np\n",
        "import pandas as pd\n",
        "import matplotlib.pyplot as plt\n",
        "from sklearn.model_selection import train_test_split"
      ],
      "execution_count": 0,
      "outputs": []
    },
    {
      "metadata": {
        "id": "FbOaPLuNtQXv",
        "colab_type": "text"
      },
      "cell_type": "markdown",
      "source": [
        " Importing all classifier libraries"
      ]
    },
    {
      "metadata": {
        "id": "9-GkEeo_nzvD",
        "colab_type": "code",
        "colab": {}
      },
      "cell_type": "code",
      "source": [
        "from sklearn.neighbors import KNeighborsClassifier\n",
        "from sklearn import svm \n",
        "from sklearn.naive_bayes import GaussianNB\n",
        "from sklearn.ensemble import RandomForestClassifier\n",
        "from sklearn.model_selection import GridSearchCV\n",
        "from sklearn.metrics import accuracy_score"
      ],
      "execution_count": 0,
      "outputs": []
    },
    {
      "metadata": {
        "id": "jWs78MIs4XaO",
        "colab_type": "text"
      },
      "cell_type": "markdown",
      "source": [
        "Downloading of training images from Google Drive. ID refers to the id of the file in google drive"
      ]
    },
    {
      "metadata": {
        "id": "WaEm1_dMdLmy",
        "colab_type": "code",
        "colab": {}
      },
      "cell_type": "code",
      "source": [
        "download = drive.CreateFile({'id': '1rlaREE5rBT0lEpH0NOXqZ7ZJRrqGIs1Q'})\n",
        "download.GetContentFile('train_image.pkl')\n",
        "with open('train_image.pkl', 'rb') as f:\n",
        "    train_images = pickle.load(f)"
      ],
      "execution_count": 0,
      "outputs": []
    },
    {
      "metadata": {
        "id": "Jqw6umDO4s8m",
        "colab_type": "text"
      },
      "cell_type": "markdown",
      "source": [
        "Downloading of training labels from Google Drive. ID refers to the id of the file in google drive"
      ]
    },
    {
      "metadata": {
        "id": "dLvpflgiddVx",
        "colab_type": "code",
        "colab": {}
      },
      "cell_type": "code",
      "source": [
        "download = drive.CreateFile({'id': '1XEFDs7HTb9UHOezRZrf9NIU_c-M1fkXN'})\n",
        "download.GetContentFile('train_label.pkl')\n",
        "with open('train_label.pkl', 'rb') as f:\n",
        "    train_labels = pickle.load(f)"
      ],
      "execution_count": 0,
      "outputs": []
    },
    {
      "metadata": {
        "id": "55AxJtvC44Uu",
        "colab_type": "text"
      },
      "cell_type": "markdown",
      "source": [
        "Exploration of training data"
      ]
    },
    {
      "metadata": {
        "id": "6BRfY6pseeEh",
        "colab_type": "code",
        "outputId": "0f00bcd5-14e4-49b4-c238-d3901063b9c6",
        "colab": {
          "base_uri": "https://localhost:8080/",
          "height": 34
        }
      },
      "cell_type": "code",
      "source": [
        "len(train_images[0])\n",
        " "
      ],
      "execution_count": 11,
      "outputs": [
        {
          "output_type": "execute_result",
          "data": {
            "text/plain": [
              "784"
            ]
          },
          "metadata": {
            "tags": []
          },
          "execution_count": 11
        }
      ]
    },
    {
      "metadata": {
        "id": "6OBE6TfE7a0c",
        "colab_type": "code",
        "colab": {
          "base_uri": "https://localhost:8080/",
          "height": 34
        },
        "outputId": "66344bdf-1260-4db2-c740-bc1d445bf208"
      },
      "cell_type": "code",
      "source": [
        "type(train_images)"
      ],
      "execution_count": 8,
      "outputs": [
        {
          "output_type": "execute_result",
          "data": {
            "text/plain": [
              "list"
            ]
          },
          "metadata": {
            "tags": []
          },
          "execution_count": 8
        }
      ]
    },
    {
      "metadata": {
        "id": "wrIVt2Vhej2Y",
        "colab_type": "code",
        "colab": {}
      },
      "cell_type": "code",
      "source": [
        "# getting a glimpse of the training data\n",
        "data = pd.DataFrame({'label':train_labels, \n",
        "            'index': range(0, 8000)})"
      ],
      "execution_count": 0,
      "outputs": []
    },
    {
      "metadata": {
        "id": "FTyrybiMemwA",
        "colab_type": "code",
        "outputId": "83585daf-6565-47f6-d760-4ebd3ea1220c",
        "colab": {
          "base_uri": "https://localhost:8080/",
          "height": 204
        }
      },
      "cell_type": "code",
      "source": [
        "data.head()"
      ],
      "execution_count": 11,
      "outputs": [
        {
          "output_type": "execute_result",
          "data": {
            "text/html": [
              "<div>\n",
              "<style scoped>\n",
              "    .dataframe tbody tr th:only-of-type {\n",
              "        vertical-align: middle;\n",
              "    }\n",
              "\n",
              "    .dataframe tbody tr th {\n",
              "        vertical-align: top;\n",
              "    }\n",
              "\n",
              "    .dataframe thead th {\n",
              "        text-align: right;\n",
              "    }\n",
              "</style>\n",
              "<table border=\"1\" class=\"dataframe\">\n",
              "  <thead>\n",
              "    <tr style=\"text-align: right;\">\n",
              "      <th></th>\n",
              "      <th>index</th>\n",
              "      <th>label</th>\n",
              "    </tr>\n",
              "  </thead>\n",
              "  <tbody>\n",
              "    <tr>\n",
              "      <th>0</th>\n",
              "      <td>0</td>\n",
              "      <td>0</td>\n",
              "    </tr>\n",
              "    <tr>\n",
              "      <th>1</th>\n",
              "      <td>1</td>\n",
              "      <td>0</td>\n",
              "    </tr>\n",
              "    <tr>\n",
              "      <th>2</th>\n",
              "      <td>2</td>\n",
              "      <td>0</td>\n",
              "    </tr>\n",
              "    <tr>\n",
              "      <th>3</th>\n",
              "      <td>3</td>\n",
              "      <td>0</td>\n",
              "    </tr>\n",
              "    <tr>\n",
              "      <th>4</th>\n",
              "      <td>4</td>\n",
              "      <td>0</td>\n",
              "    </tr>\n",
              "  </tbody>\n",
              "</table>\n",
              "</div>"
            ],
            "text/plain": [
              "   index  label\n",
              "0      0      0\n",
              "1      1      0\n",
              "2      2      0\n",
              "3      3      0\n",
              "4      4      0"
            ]
          },
          "metadata": {
            "tags": []
          },
          "execution_count": 11
        }
      ]
    },
    {
      "metadata": {
        "id": "JC6Hj5CI5ZKc",
        "colab_type": "text"
      },
      "cell_type": "markdown",
      "source": [
        "Assigning the label values to a variable y. y refers to the labels that should be assigned to the images"
      ]
    },
    {
      "metadata": {
        "id": "Gf4PFlGFf0GD",
        "colab_type": "code",
        "colab": {}
      },
      "cell_type": "code",
      "source": [
        "y=data['label'].values\n"
      ],
      "execution_count": 0,
      "outputs": []
    },
    {
      "metadata": {
        "id": "VK_h1-59qwiJ",
        "colab_type": "code",
        "outputId": "83b94f9c-d0f2-4773-ef1a-9b2136ee9dab",
        "colab": {
          "base_uri": "https://localhost:8080/",
          "height": 34
        }
      },
      "cell_type": "code",
      "source": [
        "len(y)"
      ],
      "execution_count": 13,
      "outputs": [
        {
          "output_type": "execute_result",
          "data": {
            "text/plain": [
              "8000"
            ]
          },
          "metadata": {
            "tags": []
          },
          "execution_count": 13
        }
      ]
    },
    {
      "metadata": {
        "id": "hiYp5s1t7via",
        "colab_type": "code",
        "colab": {
          "base_uri": "https://localhost:8080/",
          "height": 34
        },
        "outputId": "455771c0-9c9e-4bde-b42a-a5be9c092871"
      },
      "cell_type": "code",
      "source": [
        "type(y)"
      ],
      "execution_count": 14,
      "outputs": [
        {
          "output_type": "execute_result",
          "data": {
            "text/plain": [
              "numpy.ndarray"
            ]
          },
          "metadata": {
            "tags": []
          },
          "execution_count": 14
        }
      ]
    },
    {
      "metadata": {
        "id": "E0kpcWTL6uj3",
        "colab_type": "text"
      },
      "cell_type": "markdown",
      "source": [
        "converting training images into a numpy array to check the shape of training images"
      ]
    },
    {
      "metadata": {
        "id": "TiBfbWNmggfN",
        "colab_type": "code",
        "colab": {}
      },
      "cell_type": "code",
      "source": [
        "X = np.array(train_images)"
      ],
      "execution_count": 0,
      "outputs": []
    },
    {
      "metadata": {
        "id": "T_XmqtC5qAVh",
        "colab_type": "code",
        "outputId": "5fb0a754-ce4c-4e39-9eb8-202b152afa56",
        "colab": {
          "base_uri": "https://localhost:8080/",
          "height": 34
        }
      },
      "cell_type": "code",
      "source": [
        "X.shape"
      ],
      "execution_count": 24,
      "outputs": [
        {
          "output_type": "execute_result",
          "data": {
            "text/plain": [
              "(8000, 784)"
            ]
          },
          "metadata": {
            "tags": []
          },
          "execution_count": 24
        }
      ]
    },
    {
      "metadata": {
        "id": "2nf1avUC-3Fp",
        "colab_type": "text"
      },
      "cell_type": "markdown",
      "source": [
        "Dividing the data into training and cross validation set. This is very important since we can test out the performance of the algorithm on the cross validation set and experiment with the algorithms to get a better performance. When we get our best performance we use that algorithm for the test set. Evaluation on the test set is done only once."
      ]
    },
    {
      "metadata": {
        "id": "GyJueqwipgpx",
        "colab_type": "code",
        "colab": {}
      },
      "cell_type": "code",
      "source": [
        "X_train, X_val, y_train, y_val = train_test_split(X, y, random_state=42, test_size=0.2)"
      ],
      "execution_count": 0,
      "outputs": []
    },
    {
      "metadata": {
        "id": "n9Atxzyq_mqm",
        "colab_type": "text"
      },
      "cell_type": "markdown",
      "source": [
        "## Model 1 -->* K-Nearest Neighbour*. This can be used for both classification and regression problems. Since our problem involves multicalss classification, we can start with this classifier"
      ]
    },
    {
      "metadata": {
        "id": "vZ5iEleMgyoF",
        "colab_type": "code",
        "colab": {}
      },
      "cell_type": "code",
      "source": [
        "model = KNeighborsClassifier(n_neighbors=3)"
      ],
      "execution_count": 0,
      "outputs": []
    },
    {
      "metadata": {
        "id": "EzDwpFvenwfW",
        "colab_type": "code",
        "outputId": "febdc740-d133-462b-fc8d-4947ea49984e",
        "colab": {
          "base_uri": "https://localhost:8080/",
          "height": 68
        }
      },
      "cell_type": "code",
      "source": [
        "model.fit(X_train, y_train)"
      ],
      "execution_count": 28,
      "outputs": [
        {
          "output_type": "execute_result",
          "data": {
            "text/plain": [
              "KNeighborsClassifier(algorithm='auto', leaf_size=30, metric='minkowski',\n",
              "           metric_params=None, n_jobs=None, n_neighbors=3, p=2,\n",
              "           weights='uniform')"
            ]
          },
          "metadata": {
            "tags": []
          },
          "execution_count": 28
        }
      ]
    },
    {
      "metadata": {
        "id": "jjBot_d9q-xZ",
        "colab_type": "code",
        "colab": {}
      },
      "cell_type": "code",
      "source": [
        "y_predicted = "
      ],
      "execution_count": 0,
      "outputs": []
    },
    {
      "metadata": {
        "id": "XYz2qaxVAgGK",
        "colab_type": "text"
      },
      "cell_type": "markdown",
      "source": [
        "Testing the accuracy on training set and cross validation set. Checking on  training set is also very important to let us know of the overfirring, underfitting and a good fit"
      ]
    },
    {
      "metadata": {
        "id": "K-4dEmX9pkBG",
        "colab_type": "code",
        "outputId": "8cbdd1ea-0cb5-4548-ab42-a99752b717b4",
        "colab": {
          "base_uri": "https://localhost:8080/",
          "height": 51
        }
      },
      "cell_type": "code",
      "source": [
        "# predict function in this case is used to predict the classes for the inputed data\n",
        "print(\"Accuracy on Training Set {}\".format(accuracy_score(y_train, model.predict(X_train))))\n",
        "print(\"Accuracy on Validation Set {}\".format(accuracy_score(y_val, model.predict(X_val))))"
      ],
      "execution_count": 30,
      "outputs": [
        {
          "output_type": "stream",
          "text": [
            "Accuracy on Training Set 0.88546875\n",
            "Accuracy on Validation Set 0.794375\n"
          ],
          "name": "stdout"
        }
      ]
    },
    {
      "metadata": {
        "id": "YeAA1uLHs6rI",
        "colab_type": "code",
        "colab": {}
      },
      "cell_type": "code",
      "source": [
        "# try with different K values"
      ],
      "execution_count": 0,
      "outputs": []
    },
    {
      "metadata": {
        "id": "QYG36QpXBEBK",
        "colab_type": "text"
      },
      "cell_type": "markdown",
      "source": [
        "### Model 2 --> * Support Vector Machines*. This can also be used for both classification and regression problems. These are used heavily in classification problems because of its various advantages such as specifying custom kernels, and its effectiveness in high dimentional space"
      ]
    },
    {
      "metadata": {
        "id": "tmlRsZDDChMh",
        "colab_type": "text"
      },
      "cell_type": "markdown",
      "source": [
        "####  First variant of svm invoves using C-Support Vector Classification. SVC is so called because of its use of C parameter which is just like the regularization parameter. Usually if C is large the algorithm can make well separable decision boundary taking into account the outliers as well"
      ]
    },
    {
      "metadata": {
        "id": "fw-GOMqi7orX",
        "colab_type": "code",
        "colab": {}
      },
      "cell_type": "code",
      "source": [
        "# by default the kernel is gaussian kernel and gamma is the coefficient of the kernel, gamma should'nt be too large as it will lead to \n",
        "# overfitting, it should be set to 'scale', setting it to 'auto' leads to overfitting \n",
        "# C is by default 1.0\n",
        "model = svm.SVC(gamma='scale')"
      ],
      "execution_count": 0,
      "outputs": []
    },
    {
      "metadata": {
        "id": "8FLx8j2qY6I7",
        "colab_type": "code",
        "outputId": "a72dc501-9a86-497d-f380-0ba3abdd4044",
        "colab": {
          "base_uri": "https://localhost:8080/",
          "height": 85
        }
      },
      "cell_type": "code",
      "source": [
        "# training the model\n",
        "model.fit(X_train, y_train)"
      ],
      "execution_count": 32,
      "outputs": [
        {
          "output_type": "execute_result",
          "data": {
            "text/plain": [
              "SVC(C=1.0, cache_size=200, class_weight=None, coef0=0.0,\n",
              "  decision_function_shape='ovr', degree=3, gamma='scale', kernel='rbf',\n",
              "  max_iter=-1, probability=False, random_state=None, shrinking=True,\n",
              "  tol=0.001, verbose=False)"
            ]
          },
          "metadata": {
            "tags": []
          },
          "execution_count": 32
        }
      ]
    },
    {
      "metadata": {
        "id": "YfBmM-PTZJri",
        "colab_type": "code",
        "outputId": "3b00f7ec-1716-44ad-fb49-f8ad5cd32f25",
        "colab": {
          "base_uri": "https://localhost:8080/",
          "height": 51
        }
      },
      "cell_type": "code",
      "source": [
        "print(\"Accuracy on Training Set {}\".format(accuracy_score(y_train, model.predict(X_train))))\n",
        "print(\"Accuracy on Validation Set {}\".format(accuracy_score(y_val, model.predict(X_val))))"
      ],
      "execution_count": 33,
      "outputs": [
        {
          "output_type": "stream",
          "text": [
            "Accuracy on Training Set 0.87875\n",
            "Accuracy on Validation Set 0.8225\n"
          ],
          "name": "stdout"
        }
      ]
    },
    {
      "metadata": {
        "id": "6TfHRCwcFScG",
        "colab_type": "text"
      },
      "cell_type": "markdown",
      "source": [
        "The above model provides good accuracy, but let's see whether it can be better by tuning the parameters"
      ]
    },
    {
      "metadata": {
        "id": "Wao1JgiYFc2t",
        "colab_type": "text"
      },
      "cell_type": "markdown",
      "source": [
        "### Now, setting C to a larger value. Generally setting C to a larger value makes the algorithm define well separable decision boundary taking into account the outliers as well, however setting C too large(relative term, have to experiment with the values) may cause overfitting"
      ]
    },
    {
      "metadata": {
        "id": "isFZTOsTaZDi",
        "colab_type": "code",
        "colab": {}
      },
      "cell_type": "code",
      "source": [
        "model = svm.SVC(C=10, gamma='scale')"
      ],
      "execution_count": 0,
      "outputs": []
    },
    {
      "metadata": {
        "id": "duEAQHSbawMX",
        "colab_type": "code",
        "outputId": "91b08fb9-6555-4d55-af4a-b76f4b8eeb48",
        "colab": {
          "base_uri": "https://localhost:8080/",
          "height": 85
        }
      },
      "cell_type": "code",
      "source": [
        "# training the model\n",
        "model.fit(X_train, y_train)"
      ],
      "execution_count": 41,
      "outputs": [
        {
          "output_type": "execute_result",
          "data": {
            "text/plain": [
              "SVC(C=10, cache_size=200, class_weight=None, coef0=0.0,\n",
              "  decision_function_shape='ovr', degree=3, gamma='scale', kernel='rbf',\n",
              "  max_iter=-1, probability=False, random_state=None, shrinking=True,\n",
              "  tol=0.001, verbose=False)"
            ]
          },
          "metadata": {
            "tags": []
          },
          "execution_count": 41
        }
      ]
    },
    {
      "metadata": {
        "id": "jOWpMZLeawnm",
        "colab_type": "code",
        "outputId": "47cd7b93-c411-41e4-e114-74fb8a1cd49a",
        "colab": {
          "base_uri": "https://localhost:8080/",
          "height": 51
        }
      },
      "cell_type": "code",
      "source": [
        "print(\"Accuracy on Training Set {}\".format(accuracy_score(y_train, model.predict(X_train))))\n",
        "print(\"Accuracy on Validation Set {}\".format(accuracy_score(y_val, model.predict(X_val))))"
      ],
      "execution_count": 42,
      "outputs": [
        {
          "output_type": "stream",
          "text": [
            "Accuracy on Training Set 0.9803125\n",
            "Accuracy on Validation Set 0.84125\n"
          ],
          "name": "stdout"
        }
      ]
    },
    {
      "metadata": {
        "id": "DBv46Fw3IIom",
        "colab_type": "text"
      },
      "cell_type": "markdown",
      "source": [
        "C=10 is close to overfitting the training set, but it provides better accuracy as well, so let's test on one more value of C=5"
      ]
    },
    {
      "metadata": {
        "id": "xfmFOedrHqN2",
        "colab_type": "code",
        "colab": {
          "base_uri": "https://localhost:8080/",
          "height": 85
        },
        "outputId": "13444067-ba5d-4281-f0f5-7d14914af00f"
      },
      "cell_type": "code",
      "source": [
        "model = svm.SVC(C=5, gamma='scale')\n",
        "# training the model\n",
        "model.fit(X_train, y_train)"
      ],
      "execution_count": 43,
      "outputs": [
        {
          "output_type": "execute_result",
          "data": {
            "text/plain": [
              "SVC(C=5, cache_size=200, class_weight=None, coef0=0.0,\n",
              "  decision_function_shape='ovr', degree=3, gamma='scale', kernel='rbf',\n",
              "  max_iter=-1, probability=False, random_state=None, shrinking=True,\n",
              "  tol=0.001, verbose=False)"
            ]
          },
          "metadata": {
            "tags": []
          },
          "execution_count": 43
        }
      ]
    },
    {
      "metadata": {
        "id": "erLff2jAHxBH",
        "colab_type": "code",
        "colab": {
          "base_uri": "https://localhost:8080/",
          "height": 51
        },
        "outputId": "d6865e93-97a4-4ff3-9bff-eab87655f55e"
      },
      "cell_type": "code",
      "source": [
        "print(\"Accuracy on Training Set {}\".format(accuracy_score(y_train, model.predict(X_train))))\n",
        "print(\"Accuracy on Validation Set {}\".format(accuracy_score(y_val, model.predict(X_val))))"
      ],
      "execution_count": 44,
      "outputs": [
        {
          "output_type": "stream",
          "text": [
            "Accuracy on Training Set 0.95171875\n",
            "Accuracy on Validation Set 0.84\n"
          ],
          "name": "stdout"
        }
      ]
    },
    {
      "metadata": {
        "id": "knuMXnElZjrM",
        "colab_type": "code",
        "colab": {}
      },
      "cell_type": "code",
      "source": [
        "model = svm.LinearSVC()"
      ],
      "execution_count": 0,
      "outputs": []
    },
    {
      "metadata": {
        "id": "Odxzl7VVaEJd",
        "colab_type": "code",
        "outputId": "3afdad62-71aa-4541-f2fa-4dfdddc98be0",
        "colab": {
          "base_uri": "https://localhost:8080/",
          "height": 139
        }
      },
      "cell_type": "code",
      "source": [
        "model.fit(X_train, y_train)"
      ],
      "execution_count": 31,
      "outputs": [
        {
          "output_type": "stream",
          "text": [
            "/usr/local/lib/python3.6/dist-packages/sklearn/svm/base.py:931: ConvergenceWarning: Liblinear failed to converge, increase the number of iterations.\n",
            "  \"the number of iterations.\", ConvergenceWarning)\n"
          ],
          "name": "stderr"
        },
        {
          "output_type": "execute_result",
          "data": {
            "text/plain": [
              "LinearSVC(C=1.0, class_weight=None, dual=True, fit_intercept=True,\n",
              "     intercept_scaling=1, loss='squared_hinge', max_iter=1000,\n",
              "     multi_class='ovr', penalty='l2', random_state=None, tol=0.0001,\n",
              "     verbose=0)"
            ]
          },
          "metadata": {
            "tags": []
          },
          "execution_count": 31
        }
      ]
    },
    {
      "metadata": {
        "id": "0t9dRGPUaQAG",
        "colab_type": "code",
        "outputId": "22523f56-82e6-4ae7-a659-e3968d98c5da",
        "colab": {
          "base_uri": "https://localhost:8080/",
          "height": 34
        }
      },
      "cell_type": "code",
      "source": [
        "print(\"Accuracy on Validation Set {}\".format(accuracy_score(y_test, model.predict(X_test))))"
      ],
      "execution_count": 32,
      "outputs": [
        {
          "output_type": "stream",
          "text": [
            "Accuracy on Validation Set 0.7425\n"
          ],
          "name": "stdout"
        }
      ]
    },
    {
      "metadata": {
        "id": "oJWivhxtbl0g",
        "colab_type": "code",
        "colab": {}
      },
      "cell_type": "code",
      "source": [
        "model = svm.SVC(C=10000, kernel='poly', gamma='scale')"
      ],
      "execution_count": 0,
      "outputs": []
    },
    {
      "metadata": {
        "id": "mbLfN4tuaVW1",
        "colab_type": "code",
        "outputId": "b81f9542-56ab-4cdb-d57f-953f84bd56d5",
        "colab": {
          "base_uri": "https://localhost:8080/",
          "height": 85
        }
      },
      "cell_type": "code",
      "source": [
        "model.fit(X_train, y_train)"
      ],
      "execution_count": 34,
      "outputs": [
        {
          "output_type": "execute_result",
          "data": {
            "text/plain": [
              "SVC(C=10000, cache_size=200, class_weight=None, coef0=0.0,\n",
              "  decision_function_shape='ovr', degree=3, gamma='scale', kernel='poly',\n",
              "  max_iter=-1, probability=False, random_state=None, shrinking=True,\n",
              "  tol=0.001, verbose=False)"
            ]
          },
          "metadata": {
            "tags": []
          },
          "execution_count": 34
        }
      ]
    },
    {
      "metadata": {
        "id": "KYw7zHkHcQ_z",
        "colab_type": "code",
        "outputId": "4579ecc4-c7d0-4b36-e780-c564d379a6c6",
        "colab": {
          "base_uri": "https://localhost:8080/",
          "height": 34
        }
      },
      "cell_type": "code",
      "source": [
        "print(\"Accuracy on Validation Set {}\".format(accuracy_score(y_test, model.predict(X_test))))"
      ],
      "execution_count": 35,
      "outputs": [
        {
          "output_type": "stream",
          "text": [
            "Accuracy on Validation Set 0.810625\n"
          ],
          "name": "stdout"
        }
      ]
    },
    {
      "metadata": {
        "id": "BUbnswHX91i3",
        "colab_type": "code",
        "colab": {}
      },
      "cell_type": "code",
      "source": [
        "# Naive Bayes\n",
        "model = GaussianNB()"
      ],
      "execution_count": 0,
      "outputs": []
    },
    {
      "metadata": {
        "id": "xf0dpgZrcm6w",
        "colab_type": "code",
        "outputId": "7a2ebd11-b884-479e-d96e-49642ff3d50d",
        "colab": {
          "base_uri": "https://localhost:8080/",
          "height": 34
        }
      },
      "cell_type": "code",
      "source": [
        "model.fit(X_train, y_train)"
      ],
      "execution_count": 37,
      "outputs": [
        {
          "output_type": "execute_result",
          "data": {
            "text/plain": [
              "GaussianNB(priors=None, var_smoothing=1e-09)"
            ]
          },
          "metadata": {
            "tags": []
          },
          "execution_count": 37
        }
      ]
    },
    {
      "metadata": {
        "id": "ZE7VzVcycoss",
        "colab_type": "code",
        "outputId": "7e719ff8-f7a1-4f7b-a26a-531d6b0ddbd2",
        "colab": {
          "base_uri": "https://localhost:8080/",
          "height": 34
        }
      },
      "cell_type": "code",
      "source": [
        "print(\"Accuracy on Validation Set {}\".format(accuracy_score(y_test, model.predict(X_test))))"
      ],
      "execution_count": 38,
      "outputs": [
        {
          "output_type": "stream",
          "text": [
            "Accuracy on Validation Set 0.664375\n"
          ],
          "name": "stdout"
        }
      ]
    },
    {
      "metadata": {
        "id": "OxwOT5Vqgjey",
        "colab_type": "code",
        "colab": {}
      },
      "cell_type": "code",
      "source": [
        "model = RandomForestClassifier(n_estimators=10, n_jobs=-1)"
      ],
      "execution_count": 0,
      "outputs": []
    },
    {
      "metadata": {
        "id": "UHTlfrLvglbT",
        "colab_type": "code",
        "outputId": "3a9b4b1f-9ddb-42a3-ea66-8ab2df15564a",
        "colab": {
          "base_uri": "https://localhost:8080/",
          "height": 136
        }
      },
      "cell_type": "code",
      "source": [
        "model.fit(X_train, y_train)"
      ],
      "execution_count": 40,
      "outputs": [
        {
          "output_type": "execute_result",
          "data": {
            "text/plain": [
              "RandomForestClassifier(bootstrap=True, class_weight=None, criterion='gini',\n",
              "            max_depth=None, max_features='auto', max_leaf_nodes=None,\n",
              "            min_impurity_decrease=0.0, min_impurity_split=None,\n",
              "            min_samples_leaf=1, min_samples_split=2,\n",
              "            min_weight_fraction_leaf=0.0, n_estimators=10, n_jobs=-1,\n",
              "            oob_score=False, random_state=None, verbose=0,\n",
              "            warm_start=False)"
            ]
          },
          "metadata": {
            "tags": []
          },
          "execution_count": 40
        }
      ]
    },
    {
      "metadata": {
        "id": "bAA1N0oXgsD3",
        "colab_type": "code",
        "outputId": "ad2e9a88-8170-4758-97e2-f8c65cfcc53b",
        "colab": {
          "base_uri": "https://localhost:8080/",
          "height": 34
        }
      },
      "cell_type": "code",
      "source": [
        "print(\"Accuracy on Validation Set {}\".format(accuracy_score(y_test, model.predict(X_test))))"
      ],
      "execution_count": 41,
      "outputs": [
        {
          "output_type": "stream",
          "text": [
            "Accuracy on Validation Set 0.811875\n"
          ],
          "name": "stdout"
        }
      ]
    },
    {
      "metadata": {
        "id": "KKFpKdI_cwJn",
        "colab_type": "code",
        "colab": {}
      },
      "cell_type": "code",
      "source": [
        "model = RandomForestClassifier(n_estimators=20, n_jobs=-1)"
      ],
      "execution_count": 0,
      "outputs": []
    },
    {
      "metadata": {
        "id": "PlHIGLisfyeD",
        "colab_type": "code",
        "outputId": "8f1e3a4f-d2b2-432d-f885-4345f042929c",
        "colab": {
          "base_uri": "https://localhost:8080/",
          "height": 136
        }
      },
      "cell_type": "code",
      "source": [
        "model.fit(X_train, y_train)"
      ],
      "execution_count": 43,
      "outputs": [
        {
          "output_type": "execute_result",
          "data": {
            "text/plain": [
              "RandomForestClassifier(bootstrap=True, class_weight=None, criterion='gini',\n",
              "            max_depth=None, max_features='auto', max_leaf_nodes=None,\n",
              "            min_impurity_decrease=0.0, min_impurity_split=None,\n",
              "            min_samples_leaf=1, min_samples_split=2,\n",
              "            min_weight_fraction_leaf=0.0, n_estimators=20, n_jobs=-1,\n",
              "            oob_score=False, random_state=None, verbose=0,\n",
              "            warm_start=False)"
            ]
          },
          "metadata": {
            "tags": []
          },
          "execution_count": 43
        }
      ]
    },
    {
      "metadata": {
        "id": "ao2IIacrf-Km",
        "colab_type": "code",
        "outputId": "e3cd5c7b-c3cb-463a-acf2-d8fbd398973e",
        "colab": {
          "base_uri": "https://localhost:8080/",
          "height": 34
        }
      },
      "cell_type": "code",
      "source": [
        "print(\"Accuracy on Validation Set {}\".format(accuracy_score(y_test, model.predict(X_test))))"
      ],
      "execution_count": 44,
      "outputs": [
        {
          "output_type": "stream",
          "text": [
            "Accuracy on Validation Set 0.816875\n"
          ],
          "name": "stdout"
        }
      ]
    },
    {
      "metadata": {
        "id": "CjuJJIRrgI-q",
        "colab_type": "code",
        "colab": {}
      },
      "cell_type": "code",
      "source": [
        "model = RandomForestClassifier(n_estimators=100, n_jobs=-1)"
      ],
      "execution_count": 0,
      "outputs": []
    },
    {
      "metadata": {
        "id": "UyB0HxSFgNSu",
        "colab_type": "code",
        "outputId": "940d384e-1557-40d2-ebf8-4e5cd2118d7b",
        "colab": {
          "base_uri": "https://localhost:8080/",
          "height": 136
        }
      },
      "cell_type": "code",
      "source": [
        "model.fit(X_train, y_train)"
      ],
      "execution_count": 46,
      "outputs": [
        {
          "output_type": "execute_result",
          "data": {
            "text/plain": [
              "RandomForestClassifier(bootstrap=True, class_weight=None, criterion='gini',\n",
              "            max_depth=None, max_features='auto', max_leaf_nodes=None,\n",
              "            min_impurity_decrease=0.0, min_impurity_split=None,\n",
              "            min_samples_leaf=1, min_samples_split=2,\n",
              "            min_weight_fraction_leaf=0.0, n_estimators=100, n_jobs=-1,\n",
              "            oob_score=False, random_state=None, verbose=0,\n",
              "            warm_start=False)"
            ]
          },
          "metadata": {
            "tags": []
          },
          "execution_count": 46
        }
      ]
    },
    {
      "metadata": {
        "id": "u4XUaJI_gPT8",
        "colab_type": "code",
        "outputId": "108dc2cb-e232-4c7e-961a-0f33bae94832",
        "colab": {
          "base_uri": "https://localhost:8080/",
          "height": 34
        }
      },
      "cell_type": "code",
      "source": [
        "print(\"Accuracy on Validation Set {}\".format(accuracy_score(y_test, model.predict(X_test))))"
      ],
      "execution_count": 47,
      "outputs": [
        {
          "output_type": "stream",
          "text": [
            "Accuracy on Validation Set 0.824375\n"
          ],
          "name": "stdout"
        }
      ]
    },
    {
      "metadata": {
        "id": "CUoy7U0NgRnM",
        "colab_type": "code",
        "colab": {}
      },
      "cell_type": "code",
      "source": [
        ""
      ],
      "execution_count": 0,
      "outputs": []
    }
  ]
}